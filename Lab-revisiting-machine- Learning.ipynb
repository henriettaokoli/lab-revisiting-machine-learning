{
 "cells": [
  {
   "cell_type": "code",
   "execution_count": 3,
   "id": "314c8ad4-99c8-4470-8af6-154d6aa6463a",
   "metadata": {},
   "outputs": [],
   "source": [
    "import pandas as pd\n",
    "import os"
   ]
  },
  {
   "cell_type": "code",
   "execution_count": 4,
   "id": "3b3b161c-e711-4682-a6d1-12b5e8f96c0b",
   "metadata": {},
   "outputs": [
    {
     "name": "stderr",
     "output_type": "stream",
     "text": [
      "/var/folders/r7/z9gb1qsn1s19784msdjpwrzh0000gn/T/ipykernel_48754/1571066296.py:2: DtypeWarning: Columns (8) have mixed types. Specify dtype option on import or set low_memory=False.\n",
      "  df = pd.read_csv(file_path)\n"
     ]
    }
   ],
   "source": [
    "file_path = os.path.expanduser('~/Downloads/learningSet.csv') \n",
    "df = pd.read_csv(file_path)"
   ]
  },
  {
   "cell_type": "code",
   "execution_count": 6,
   "id": "a4740cc9-3f49-4cf8-8ba2-55dc56ee0f4d",
   "metadata": {},
   "outputs": [],
   "source": [
    "df = pd.read_csv(file_path, low_memory=False)\n"
   ]
  },
  {
   "cell_type": "code",
   "execution_count": 8,
   "id": "78d6f45e-9044-4a93-a607-68b5f5a06216",
   "metadata": {},
   "outputs": [],
   "source": [
    "df = pd.read_csv(file_path, dtype={8: str})\n"
   ]
  },
  {
   "cell_type": "code",
   "execution_count": 9,
   "id": "72db74d0-f683-48ae-b058-f3ddd264891a",
   "metadata": {},
   "outputs": [
    {
     "name": "stdout",
     "output_type": "stream",
     "text": [
      "['0' '1' 'X' ' ']\n"
     ]
    }
   ],
   "source": [
    "print(df.iloc[:, 8].unique())\n"
   ]
  },
  {
   "cell_type": "code",
   "execution_count": 10,
   "id": "2d743b29-a1e2-4349-8f6e-fafc7147f36f",
   "metadata": {},
   "outputs": [],
   "source": [
    "df = pd.read_csv(file_path, low_memory=False)\n",
    "\n",
    "# Convert column 8 to string (or another data type if needed)\n",
    "df.iloc[:, 8] = df.iloc[:, 8].astype(str)\n"
   ]
  },
  {
   "cell_type": "code",
   "execution_count": 11,
   "id": "a364dd03-21dc-4e84-a86e-ec511f02269a",
   "metadata": {},
   "outputs": [],
   "source": [
    "df = pd.read_csv(file_path, low_memory=False, dtype={8: str})\n"
   ]
  },
  {
   "cell_type": "code",
   "execution_count": 12,
   "id": "eb8088e2-cc45-4023-8a91-8a6cd8d7ccad",
   "metadata": {},
   "outputs": [],
   "source": [
    "df = pd.read_csv(file_path, low_memory=False, dtype={'column_name': str})\n"
   ]
  },
  {
   "cell_type": "code",
   "execution_count": 13,
   "id": "7bba1236-19e1-468e-945c-7b6c84038cf4",
   "metadata": {},
   "outputs": [
    {
     "name": "stdout",
     "output_type": "stream",
     "text": [
      "['0' '1' 'X' ' ']\n"
     ]
    }
   ],
   "source": [
    "print(df.iloc[:, 8].unique())  # This prints the unique values in column 8\n"
   ]
  },
  {
   "cell_type": "code",
   "execution_count": 14,
   "id": "d05468b4-1482-466a-9fbb-f33bf2eb8cc5",
   "metadata": {},
   "outputs": [
    {
     "name": "stdout",
     "output_type": "stream",
     "text": [
      "   ODATEDW OSOURCE  TCODE STATE    ZIP MAILCODE PVASTATE   DOB NOEXCH  \\\n",
      "0     8901     GRI      0    IL  61081                    3712      0   \n",
      "1     9401     BOA      1    CA  91326                    5202      0   \n",
      "2     9001     AMH      1    NC  27017                       0      0   \n",
      "3     8701     BRY      0    CA  95953                    2801      0   \n",
      "4     8601              0    FL  33176                    2001      0   \n",
      "\n",
      "  RECINHSE  ... TARGET_D HPHONE_D RFA_2R RFA_2F RFA_2A MDMAUD_R  MDMAUD_F  \\\n",
      "0           ...      0.0        0      L      4      E        X         X   \n",
      "1           ...      0.0        0      L      2      G        X         X   \n",
      "2           ...      0.0        1      L      4      E        X         X   \n",
      "3           ...      0.0        1      L      4      E        X         X   \n",
      "4        X  ...      0.0        1      L      2      F        X         X   \n",
      "\n",
      "  MDMAUD_A CLUSTER2 GEOCODE2  \n",
      "0        X     39.0        C  \n",
      "1        X      1.0        A  \n",
      "2        X     60.0        C  \n",
      "3        X     41.0        C  \n",
      "4        X     26.0        A  \n",
      "\n",
      "[5 rows x 481 columns]\n"
     ]
    }
   ],
   "source": [
    "# Display the first few rows of the dataset\n",
    "print(df.head())\n"
   ]
  },
  {
   "cell_type": "code",
   "execution_count": 15,
   "id": "de24187e-f802-4658-a46b-e9e1e5cc6010",
   "metadata": {},
   "outputs": [
    {
     "name": "stdout",
     "output_type": "stream",
     "text": [
      "(95412, 481)\n"
     ]
    }
   ],
   "source": [
    "# Check the number of rows and columns\n",
    "print(df.shape)\n"
   ]
  },
  {
   "cell_type": "code",
   "execution_count": 16,
   "id": "5f63bc8a-4b7b-4be1-bc97-10aed8fdc089",
   "metadata": {},
   "outputs": [
    {
     "name": "stdout",
     "output_type": "stream",
     "text": [
      "Index(['ODATEDW', 'OSOURCE', 'TCODE', 'STATE', 'ZIP', 'MAILCODE', 'PVASTATE',\n",
      "       'DOB', 'NOEXCH', 'RECINHSE',\n",
      "       ...\n",
      "       'TARGET_D', 'HPHONE_D', 'RFA_2R', 'RFA_2F', 'RFA_2A', 'MDMAUD_R',\n",
      "       'MDMAUD_F', 'MDMAUD_A', 'CLUSTER2', 'GEOCODE2'],\n",
      "      dtype='object', length=481)\n"
     ]
    }
   ],
   "source": [
    "# Print the column names to verify the upload\n",
    "print(df.columns)\n"
   ]
  },
  {
   "cell_type": "code",
   "execution_count": 17,
   "id": "3a5eda61-74ab-4562-bb73-6815d75b5896",
   "metadata": {},
   "outputs": [
    {
     "name": "stdout",
     "output_type": "stream",
     "text": [
      "ODATEDW       0\n",
      "OSOURCE       0\n",
      "TCODE         0\n",
      "STATE         0\n",
      "ZIP           0\n",
      "           ... \n",
      "MDMAUD_R      0\n",
      "MDMAUD_F      0\n",
      "MDMAUD_A      0\n",
      "CLUSTER2    132\n",
      "GEOCODE2    132\n",
      "Length: 481, dtype: int64\n"
     ]
    }
   ],
   "source": [
    "# Check for null values in the dataset\n",
    "print(df.isnull().sum())\n"
   ]
  },
  {
   "cell_type": "code",
   "execution_count": 19,
   "id": "ce955cd7-5151-412a-9a6e-d995e4d2ec51",
   "metadata": {},
   "outputs": [
    {
     "name": "stdout",
     "output_type": "stream",
     "text": [
      "Null values in each column:\n",
      " ODATEDW       0\n",
      "OSOURCE       0\n",
      "TCODE         0\n",
      "STATE         0\n",
      "ZIP           0\n",
      "           ... \n",
      "MDMAUD_R      0\n",
      "MDMAUD_F      0\n",
      "MDMAUD_A      0\n",
      "CLUSTER2    132\n",
      "GEOCODE2    132\n",
      "Length: 481, dtype: int64\n"
     ]
    }
   ],
   "source": [
    "# Check for null values in all columns\n",
    "null_counts = df.isnull().sum()\n",
    "print(\"Null values in each column:\\n\", null_counts)\n"
   ]
  },
  {
   "cell_type": "code",
   "execution_count": 21,
   "id": "8aee251e-fba1-45dc-a9c4-e476d4bca18a",
   "metadata": {},
   "outputs": [],
   "source": [
    "# Create a drop list for columns to exclude\n",
    "drop_list = ['OSOURCE', 'ZIP CODE']"
   ]
  },
  {
   "cell_type": "code",
   "execution_count": 23,
   "id": "5c9a7d33-f297-458f-8f87-4f967189a9b2",
   "metadata": {},
   "outputs": [],
   "source": [
    "# Identify columns with over 85% missing values\n",
    "threshold = 0.85 * len(df)  # 85% of the length of the dataframe\n",
    "columns_to_drop = null_counts[null_counts > threshold].index.tolist()\n",
    "\n",
    "# Add these columns to drop_list\n",
    "drop_list.extend(columns_to_drop)\n"
   ]
  },
  {
   "cell_type": "code",
   "execution_count": 26,
   "id": "49d17481-1f45-4291-9458-8c75f9ea104e",
   "metadata": {},
   "outputs": [],
   "source": [
    "# Update the drop_list based on actual column names\n",
    "drop_list = ['OSOURCE']  # Remove 'ZIP CODE' if it doesn't exist\n"
   ]
  },
  {
   "cell_type": "code",
   "execution_count": 27,
   "id": "32e98ca5-1741-4d83-942d-be9d241e8f47",
   "metadata": {},
   "outputs": [],
   "source": [
    "df_cleaned = df.drop(columns=drop_list)"
   ]
  },
  {
   "cell_type": "code",
   "execution_count": 28,
   "id": "d46bcebe-fcc2-4ec2-b892-c199193f8199",
   "metadata": {},
   "outputs": [
    {
     "name": "stdout",
     "output_type": "stream",
     "text": [
      "Columns in the DataFrame:\n",
      " Index(['ODATEDW', 'OSOURCE', 'TCODE', 'STATE', 'ZIP', 'MAILCODE', 'PVASTATE',\n",
      "       'DOB', 'NOEXCH', 'RECINHSE',\n",
      "       ...\n",
      "       'TARGET_D', 'HPHONE_D', 'RFA_2R', 'RFA_2F', 'RFA_2A', 'MDMAUD_R',\n",
      "       'MDMAUD_F', 'MDMAUD_A', 'CLUSTER2', 'GEOCODE2'],\n",
      "      dtype='object', length=481)\n",
      "Drop list before removing columns:\n",
      " ['OSOURCE', 'NUMCHLD', 'RDATE_3', 'RDATE_4', 'RDATE_5', 'RDATE_6', 'RDATE_7', 'RDATE_10', 'RDATE_13', 'RDATE_15', 'RDATE_17', 'RDATE_20', 'RDATE_21', 'RDATE_23', 'RAMNT_3', 'RAMNT_4', 'RAMNT_5', 'RAMNT_6', 'RAMNT_7', 'RAMNT_10', 'RAMNT_13', 'RAMNT_15', 'RAMNT_17', 'RAMNT_20', 'RAMNT_21', 'RAMNT_23']\n",
      "Original GENDER value counts:\n",
      " GENDER\n",
      "F    51277\n",
      "M    39094\n",
      "      2957\n",
      "U     1715\n",
      "J      365\n",
      "C        2\n",
      "A        2\n",
      "Name: count, dtype: int64\n",
      "Updated GENDER value counts:\n",
      " GENDER\n",
      "F        51277\n",
      "M        39094\n",
      "other     5041\n",
      "Name: count, dtype: int64\n",
      "   ODATEDW  TCODE STATE    ZIP MAILCODE PVASTATE   DOB NOEXCH RECINHSE RECP3  \\\n",
      "0     8901      0    IL  61081                    3712      0                  \n",
      "1     9401      1    CA  91326                    5202      0                  \n",
      "2     9001      1    NC  27017                       0      0                  \n",
      "3     8701      0    CA  95953                    2801      0                  \n",
      "4     8601      0    FL  33176                    2001      0        X     X   \n",
      "\n",
      "   ... TARGET_D HPHONE_D RFA_2R RFA_2F RFA_2A  MDMAUD_R MDMAUD_F MDMAUD_A  \\\n",
      "0  ...      0.0        0      L      4      E         X        X        X   \n",
      "1  ...      0.0        0      L      2      G         X        X        X   \n",
      "2  ...      0.0        1      L      4      E         X        X        X   \n",
      "3  ...      0.0        1      L      4      E         X        X        X   \n",
      "4  ...      0.0        1      L      2      F         X        X        X   \n",
      "\n",
      "  CLUSTER2 GEOCODE2  \n",
      "0     39.0        C  \n",
      "1      1.0        A  \n",
      "2     60.0        C  \n",
      "3     41.0        C  \n",
      "4     26.0        A  \n",
      "\n",
      "[5 rows x 455 columns]\n"
     ]
    }
   ],
   "source": [
    "import pandas as pd\n",
    "import os\n",
    "\n",
    "# Step 1: Load the dataset\n",
    "file_path = os.path.expanduser('~/Downloads/learningSet.csv')\n",
    "df = pd.read_csv(file_path, low_memory=False)\n",
    "\n",
    "# Step 2: Check the column names\n",
    "print(\"Columns in the DataFrame:\\n\", df.columns)\n",
    "\n",
    "# Step 3: Create a drop list for columns to exclude\n",
    "# Adjust the drop_list based on what you see in the printed column names\n",
    "drop_list = ['OSOURCE']  # Start with just OSOURCE for now\n",
    "\n",
    "# Step 4: Identify columns with over 85% missing values\n",
    "null_counts = df.isnull().sum()\n",
    "threshold = 0.85 * len(df)\n",
    "columns_to_drop = null_counts[null_counts > threshold].index.tolist()\n",
    "\n",
    "# Add these columns to drop_list\n",
    "drop_list.extend(columns_to_drop)\n",
    "\n",
    "# Check if 'ZIP CODE' is in drop_list before attempting to drop\n",
    "print(\"Drop list before removing columns:\\n\", drop_list)\n",
    "\n",
    "# Step 5: Drop the columns in drop_list\n",
    "df_cleaned = df.drop(columns=drop_list, errors='ignore')  # 'ignore' prevents KeyError for non-existent columns\n",
    "\n",
    "# Step 6: Clean the GENDER column (as previously explained)\n",
    "print(\"Original GENDER value counts:\\n\", df_cleaned['GENDER'].value_counts())\n",
    "df_cleaned['GENDER'] = df_cleaned['GENDER'].fillna('F')\n",
    "df_cleaned['GENDER'] = df_cleaned['GENDER'].apply(lambda x: 'M' if x == 'M' else ('F' if x == 'F' else 'other'))\n",
    "print(\"Updated GENDER value counts:\\n\", df_cleaned['GENDER'].value_counts())\n",
    "\n",
    "# Optionally display the cleaned DataFrame\n",
    "print(df_cleaned.head())\n",
    "\n",
    "# Optionally save the cleaned DataFrame to a new CSV file\n",
    "df_cleaned.to_csv('cleaned_learningSet.csv', index=False)\n"
   ]
  },
  {
   "cell_type": "code",
   "execution_count": null,
   "id": "6ff79be3-ee17-4f59-8267-23afe54a28ad",
   "metadata": {},
   "outputs": [],
   "source": []
  }
 ],
 "metadata": {
  "kernelspec": {
   "display_name": "Python 3 (ipykernel)",
   "language": "python",
   "name": "python3"
  },
  "language_info": {
   "codemirror_mode": {
    "name": "ipython",
    "version": 3
   },
   "file_extension": ".py",
   "mimetype": "text/x-python",
   "name": "python",
   "nbconvert_exporter": "python",
   "pygments_lexer": "ipython3",
   "version": "3.11.7"
  }
 },
 "nbformat": 4,
 "nbformat_minor": 5
}
